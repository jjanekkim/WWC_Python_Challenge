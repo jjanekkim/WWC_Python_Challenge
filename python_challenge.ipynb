{
 "cells": [
  {
   "cell_type": "markdown",
   "metadata": {},
   "source": [
    "# Women Who Code - Python Challenges"
   ]
  },
  {
   "cell_type": "markdown",
   "metadata": {},
   "source": [
    "## 1. Swap Variables"
   ]
  },
  {
   "cell_type": "code",
   "execution_count": 3,
   "metadata": {},
   "outputs": [
    {
     "data": {
      "text/plain": [
       "('otter', 'panda')"
      ]
     },
     "execution_count": 3,
     "metadata": {},
     "output_type": "execute_result"
    }
   ],
   "source": [
    "# Create a program that swaps the values of two variables.\n",
    "\n",
    "def swap_variables(a, b):\n",
    "    swap = a\n",
    "    a = b\n",
    "    b = swap\n",
    "    return a, b\n",
    "\n",
    "swap_variables(\"panda\", \"otter\")"
   ]
  },
  {
   "cell_type": "markdown",
   "metadata": {},
   "source": [
    "## 2. Area of Circle"
   ]
  },
  {
   "cell_type": "code",
   "execution_count": 4,
   "metadata": {},
   "outputs": [
    {
     "data": {
      "text/plain": [
       "78.53981633974483"
      ]
     },
     "execution_count": 4,
     "metadata": {},
     "output_type": "execute_result"
    }
   ],
   "source": [
    "# Create a program to calculate the area of a circle given its radius.\n",
    "\n",
    "import math\n",
    "\n",
    "def calculate_area_cir(radius):\n",
    "    area = math.pi * (radius ** 2)\n",
    "    return area\n",
    "\n",
    "calculate_area_cir(5)"
   ]
  },
  {
   "cell_type": "markdown",
   "metadata": {},
   "source": [
    "## 3. Count Vowels"
   ]
  },
  {
   "cell_type": "code",
   "execution_count": 24,
   "metadata": {},
   "outputs": [
    {
     "name": "stdout",
     "output_type": "stream",
     "text": [
      "3\n"
     ]
    }
   ],
   "source": [
    "# Write a function to count the number of vowels in a given string.\n",
    "\n",
    "def count_vowels(string):\n",
    "    count = 0\n",
    "    vowels = 'a','e','i','o','u'\n",
    "    for l in string:\n",
    "        if l in vowels:\n",
    "            count += 1\n",
    "    print(count)\n",
    "\n",
    "count_vowels(\"Happy Friday!\")"
   ]
  },
  {
   "cell_type": "markdown",
   "metadata": {},
   "source": [
    "## 4. Sum of Elements"
   ]
  },
  {
   "cell_type": "code",
   "execution_count": 9,
   "metadata": {},
   "outputs": [
    {
     "name": "stdout",
     "output_type": "stream",
     "text": [
      "15\n"
     ]
    }
   ],
   "source": [
    "# Write a program to find the sum of all elements in a list.\n",
    "\n",
    "def sum_elements(num_list):\n",
    "    total = sum(num_list)\n",
    "    print(total)\n",
    "\n",
    "num = [1,2,3,4,5]\n",
    "sum_elements(num)"
   ]
  },
  {
   "cell_type": "markdown",
   "metadata": {},
   "source": [
    "## 5. Min Max Values"
   ]
  },
  {
   "cell_type": "code",
   "execution_count": 11,
   "metadata": {},
   "outputs": [
    {
     "name": "stdout",
     "output_type": "stream",
     "text": [
      "15 11\n"
     ]
    }
   ],
   "source": [
    "# Write a program to find the maximum and minimum values in a list.\n",
    "\n",
    "def min_max_values(num_list):\n",
    "    maximum = max(num_list)\n",
    "    minimum = min(num_list)\n",
    "    print(maximum, minimum)\n",
    "\n",
    "\n",
    "num = [11,12,13,14,15]\n",
    "min_max_values(num)"
   ]
  },
  {
   "cell_type": "markdown",
   "metadata": {},
   "source": [
    "## 6. Count Characters"
   ]
  },
  {
   "cell_type": "code",
   "execution_count": 13,
   "metadata": {},
   "outputs": [
    {
     "name": "stdout",
     "output_type": "stream",
     "text": [
      "5\n"
     ]
    }
   ],
   "source": [
    "# Write a program to count the occurrences of a specific character in a string.\n",
    "\n",
    "def count_char(string, character):\n",
    "    num_char = string.count(character)\n",
    "    print(num_char)\n",
    "\n",
    "count_char(\"I love cats! Cats are adorable!\", \"a\")"
   ]
  },
  {
   "cell_type": "markdown",
   "metadata": {},
   "source": [
    "## 7. Positive, Negative, and Zero"
   ]
  },
  {
   "cell_type": "code",
   "execution_count": 7,
   "metadata": {},
   "outputs": [
    {
     "name": "stdout",
     "output_type": "stream",
     "text": [
      "This number is Positive!\n"
     ]
    }
   ],
   "source": [
    "# Write a program to check if a number is positive, negative, or zero.\n",
    "\n",
    "num = int(input(\"Please provide any number: \"))\n",
    "\n",
    "if num > 0:\n",
    "    print(\"This number is Positive!\")\n",
    "elif num == 0:\n",
    "    print(\"This number is Zero!\")\n",
    "else:\n",
    "    print(\"This number is Negative!\")"
   ]
  },
  {
   "cell_type": "markdown",
   "metadata": {},
   "source": [
    "## 8. Count Uppercase/Lowercase"
   ]
  },
  {
   "cell_type": "code",
   "execution_count": 9,
   "metadata": {},
   "outputs": [],
   "source": [
    "# Write a function that accepts a string and calculates the number of uppercase and lowercase letters in it.\n",
    "\n",
    "def count_up_low(string):\n",
    "    uppercase_letters = \"ABCDEFGHIJKLMNOPQRSTUVWXYZ\"\n",
    "    lowercase_letters = \"abcdefghijklmnopqrstuvwxyz\"\n",
    "    up_low_dict = {\"Uppercases\":0, \"Lowercases\":0}\n",
    "    for l in string:\n",
    "        if l in uppercase_letters:\n",
    "            up_low_dict[\"Uppercases\"] += 1\n",
    "        elif l in lowercase_letters:\n",
    "            up_low_dict[\"Lowercases\"] += 1\n",
    "    print(up_low_dict)"
   ]
  },
  {
   "cell_type": "code",
   "execution_count": 11,
   "metadata": {},
   "outputs": [
    {
     "name": "stdout",
     "output_type": "stream",
     "text": [
      "{'Uppercases': 8, 'Lowercases': 20}\n"
     ]
    }
   ],
   "source": [
    "count_up_low(\"Cats are the CUTEST being on Earth!\")"
   ]
  },
  {
   "cell_type": "markdown",
   "metadata": {},
   "source": [
    "## 9. Even or Odd Number"
   ]
  },
  {
   "cell_type": "code",
   "execution_count": 4,
   "metadata": {},
   "outputs": [
    {
     "name": "stdout",
     "output_type": "stream",
     "text": [
      "This number is odd.\n"
     ]
    }
   ],
   "source": [
    "# Write a program to check if a number is even or odd.\n",
    "\n",
    "def check_even_odd(number):\n",
    "    if number%2 == 0:\n",
    "        print(\"This number is even.\")\n",
    "    else:\n",
    "        print(\"This number is odd.\")\n",
    "\n",
    "check_even_odd(-1)"
   ]
  },
  {
   "cell_type": "markdown",
   "metadata": {},
   "source": [
    "## 10. No Duplicates"
   ]
  },
  {
   "cell_type": "code",
   "execution_count": 3,
   "metadata": {},
   "outputs": [
    {
     "name": "stdout",
     "output_type": "stream",
     "text": [
      "['Pearl', 'Gamja', 'Kkkamkong', 'Noru']\n"
     ]
    }
   ],
   "source": [
    "# Write a program to remove duplicates from a list.\n",
    "\n",
    "# First Version: using the set - do not allow duplicate values.\n",
    "\n",
    "def remove_dupe(duplicated_list):\n",
    "    duplicated_list = set(duplicated_list)\n",
    "    duplicated_list = list(duplicated_list)\n",
    "    print(duplicated_list)\n",
    "\n",
    "dupe_list = [\"Gamja\", \"Noru\", \"Pearl\", \"Kkkamkong\", \"Gamja\"]\n",
    "\n",
    "remove_dupe(dupe_list)"
   ]
  },
  {
   "cell_type": "code",
   "execution_count": 6,
   "metadata": {},
   "outputs": [
    {
     "name": "stdout",
     "output_type": "stream",
     "text": [
      "['Gamja', 'Noru', 'Pearl', 'Kkkamkong']\n"
     ]
    }
   ],
   "source": [
    "# Second Version: using the for loop and if statement.\n",
    "\n",
    "dupe_list = [\"Gamja\", \"Noru\", \"Pearl\", \"Kkkamkong\", \"Gamja\"]\n",
    "new_list = []\n",
    "\n",
    "for l in dupe_list:\n",
    "    if l not in new_list:\n",
    "        new_list.append(l)\n",
    "print(new_list)"
   ]
  },
  {
   "cell_type": "markdown",
   "metadata": {},
   "source": [
    "## 11. Multiplication Table"
   ]
  },
  {
   "cell_type": "code",
   "execution_count": 6,
   "metadata": {},
   "outputs": [
    {
     "name": "stdout",
     "output_type": "stream",
     "text": [
      "Multiplication Table\n",
      "|\t | 8 \t |\n",
      "------------------\n",
      "| 0 \t | 0 \t |\n",
      "| 1 \t | 8 \t |\n",
      "| 2 \t | 16 \t |\n",
      "| 3 \t | 24 \t |\n",
      "| 4 \t | 32 \t |\n",
      "| 5 \t | 40 \t |\n",
      "| 6 \t | 48 \t |\n",
      "| 7 \t | 56 \t |\n",
      "| 8 \t | 64 \t |\n",
      "| 9 \t | 72 \t |\n",
      "------------------\n"
     ]
    }
   ],
   "source": [
    "# Write a program to print the multiplication table of a given number.\n",
    "\n",
    "num = int(input(\"Please provide a number for multiplication table: \"))\n",
    "print(\"Multiplication Table\")\n",
    "print(\"|\\t\", \"|\", num, \"\\t\",\"|\")\n",
    "print(\"------------------\")\n",
    "for m in range(0, 10):\n",
    "    product = m * num\n",
    "    print(\"|\", m, \"\\t\", \"|\", product, \"\\t\",\"|\")\n",
    "print(\"------------------\")"
   ]
  },
  {
   "cell_type": "markdown",
   "metadata": {},
   "source": [
    "## 12. Reverse String"
   ]
  },
  {
   "cell_type": "code",
   "execution_count": 72,
   "metadata": {},
   "outputs": [
    {
     "name": "stdout",
     "output_type": "stream",
     "text": [
      "ajmaG ylevoL\n"
     ]
    }
   ],
   "source": [
    "# Write a program to reverse a given string.\n",
    "\n",
    "def reverse_string(words):\n",
    "    words = words.strip(\"\")\n",
    "    list_words = list(words)\n",
    "    list_words.reverse()\n",
    "    new_words = \"\".join(list_words)\n",
    "    print(new_words)\n",
    "\n",
    "cat = \"Lovely Gamja\"\n",
    "\n",
    "reverse_string(cat)"
   ]
  },
  {
   "cell_type": "markdown",
   "metadata": {},
   "source": [
    "## 13. Random Shuffle"
   ]
  },
  {
   "cell_type": "code",
   "execution_count": 5,
   "metadata": {},
   "outputs": [
    {
     "name": "stdout",
     "output_type": "stream",
     "text": [
      "['onion', 'tomato', 'zucchini']\n"
     ]
    }
   ],
   "source": [
    "# Write a program to shuffle the elements of a list randomly.\n",
    "\n",
    "import random\n",
    "\n",
    "def shuffle_list(my_list):\n",
    "    random.shuffle(my_list)\n",
    "    print(my_list)\n",
    "\n",
    "veggies = ['tomato', 'onion', 'zucchini']\n",
    "\n",
    "shuffle_list(veggies)"
   ]
  },
  {
   "cell_type": "markdown",
   "metadata": {},
   "source": [
    "## 14. Fibonacci Sequence***"
   ]
  },
  {
   "cell_type": "code",
   "execution_count": 32,
   "metadata": {},
   "outputs": [],
   "source": [
    "# Write a program to print the first n numbers of a Fibonacci sequence.\n",
    "\n",
    "def fibonacci_sequence(num):\n",
    "    if num == 0:\n",
    "        print([0])\n",
    "    elif num == 1:\n",
    "        print([0, 1])\n",
    "    else:\n",
    "        sequence = [0, 1] # The first sequence is 0 and 1.\n",
    "        for n in range(2, num): # Start the for loop for the third sequece which is 2.\n",
    "            next_term = sequence[-1] + sequence[-2] # Add the last two preceding numbers from sequence list.\n",
    "            sequence.append(next_term) # Add the next sequence number to the list.\n",
    "        print(sequence)"
   ]
  },
  {
   "cell_type": "code",
   "execution_count": 34,
   "metadata": {},
   "outputs": [
    {
     "name": "stdout",
     "output_type": "stream",
     "text": [
      "[0, 1, 1, 2, 3, 5, 8, 13, 21, 34]\n"
     ]
    }
   ],
   "source": [
    "fibonacci_sequence(10)"
   ]
  },
  {
   "cell_type": "markdown",
   "metadata": {},
   "source": [
    "## 15. Leap Year"
   ]
  },
  {
   "cell_type": "code",
   "execution_count": 20,
   "metadata": {},
   "outputs": [],
   "source": [
    "# Create a program that checks if a year is a leap year.\n",
    "\n",
    "def is_leap_yr(year):\n",
    "    if year%4 == 0 and year%100 != 0:\n",
    "        print(f\"{year} is a leap year.\")\n",
    "    elif year%4 == 0 and year%100 == 0 and year%400 == 0:\n",
    "        print(f\"{year} is a leap year.\")\n",
    "    else:\n",
    "        print(f\"{year} is not a leap year.\")"
   ]
  },
  {
   "cell_type": "code",
   "execution_count": 24,
   "metadata": {},
   "outputs": [
    {
     "name": "stdout",
     "output_type": "stream",
     "text": [
      "2024 is a leap year.\n"
     ]
    }
   ],
   "source": [
    "is_leap_yr(2024)"
   ]
  },
  {
   "cell_type": "markdown",
   "metadata": {},
   "source": [
    "## 16. Count Word Frequency"
   ]
  },
  {
   "cell_type": "code",
   "execution_count": 13,
   "metadata": {},
   "outputs": [],
   "source": [
    "# Write a function that counts the frequency of each word in a sentence.\n",
    "\n",
    "def count_words(sentence):\n",
    "    word_count = {}\n",
    "    remove_punctuations = sentence.replace(\".\", \"\")\n",
    "    remove_punctuations = remove_punctuations.replace(\",\", \"\")\n",
    "    words_list = remove_punctuations.split(\" \")\n",
    "    for word in words_list:\n",
    "        if word not in word_count.keys():\n",
    "            word_count[word] = 1\n",
    "        elif word in word_count.keys():\n",
    "            word_count[word] += 1\n",
    "    print(word_count)"
   ]
  },
  {
   "cell_type": "code",
   "execution_count": 15,
   "metadata": {},
   "outputs": [
    {
     "name": "stdout",
     "output_type": "stream",
     "text": [
      "{'I': 3, 'like': 3, 'k-pop': 1, 'NCT': 1, 'Twice': 1}\n"
     ]
    }
   ],
   "source": [
    "count_words(\"I like k-pop, I like NCT, I like Twice.\")"
   ]
  },
  {
   "cell_type": "markdown",
   "metadata": {},
   "source": [
    "## 17. Capitalize First Letter"
   ]
  },
  {
   "cell_type": "code",
   "execution_count": 24,
   "metadata": {},
   "outputs": [],
   "source": [
    "# Create a program that capitalizes the first letter of each word in a sentence.\n",
    "\n",
    "def cap_letter(sentence):\n",
    "    cap_words = []\n",
    "    words_list = sentence.split(\" \")\n",
    "    for word in words_list:\n",
    "        cap_word = word.capitalize()\n",
    "        cap_words.append(cap_word)\n",
    "        cap_sent = \" \".join(cap_words)\n",
    "    print(cap_sent)"
   ]
  },
  {
   "cell_type": "code",
   "execution_count": 26,
   "metadata": {},
   "outputs": [
    {
     "name": "stdout",
     "output_type": "stream",
     "text": [
      "You Make My World Light Up Inside\n"
     ]
    }
   ],
   "source": [
    "cap_letter(\"you make my world light up inside\")"
   ]
  },
  {
   "cell_type": "markdown",
   "metadata": {},
   "source": [
    "## 18. Largest Number"
   ]
  },
  {
   "cell_type": "code",
   "execution_count": 3,
   "metadata": {},
   "outputs": [],
   "source": [
    "# Create a program to find the largest among three numbers.\n",
    "\n",
    "def large_num(numbers):\n",
    "    l_num = 0\n",
    "    for num in numbers:\n",
    "        if num > l_num:\n",
    "            l_num = num\n",
    "    print(l_num)"
   ]
  },
  {
   "cell_type": "code",
   "execution_count": 6,
   "metadata": {},
   "outputs": [
    {
     "name": "stdout",
     "output_type": "stream",
     "text": [
      "99\n"
     ]
    }
   ],
   "source": [
    "large_num([98, 99, 1])"
   ]
  },
  {
   "cell_type": "markdown",
   "metadata": {},
   "source": [
    "## 19. Factorial of a Number"
   ]
  },
  {
   "cell_type": "code",
   "execution_count": 16,
   "metadata": {},
   "outputs": [],
   "source": [
    "# Write a function to calculate the factorial of a number.\n",
    "\n",
    "def factorial_num(number):\n",
    "    if number == 0:\n",
    "        factorial = 1\n",
    "        print(factorial)\n",
    "    else:\n",
    "        factorial = 1\n",
    "        for num in range(1, number + 1):\n",
    "            factorial *= num\n",
    "        print(factorial)"
   ]
  },
  {
   "cell_type": "code",
   "execution_count": 20,
   "metadata": {},
   "outputs": [
    {
     "name": "stdout",
     "output_type": "stream",
     "text": [
      "720\n"
     ]
    }
   ],
   "source": [
    "factorial_num(6)"
   ]
  },
  {
   "cell_type": "markdown",
   "metadata": {},
   "source": [
    "## 20. List of Even Numbers"
   ]
  },
  {
   "cell_type": "code",
   "execution_count": 1,
   "metadata": {},
   "outputs": [],
   "source": [
    "# Write a function that takes a list of numbers and returns a new list containing only the even numbers.\n",
    "\n",
    "def only_even_nums(list_numbers):\n",
    "    even_num_list = []\n",
    "    for num in list_numbers:\n",
    "        if num%2 == 0:\n",
    "            even_num_list.append(num)\n",
    "    print(even_num_list)"
   ]
  },
  {
   "cell_type": "code",
   "execution_count": 3,
   "metadata": {},
   "outputs": [
    {
     "name": "stdout",
     "output_type": "stream",
     "text": [
      "[14, 88, 4, 10, 66]\n"
     ]
    }
   ],
   "source": [
    "my_num_list = [1, 14, 15, 85, 88, 65, 63, 4, 10, 66]\n",
    "\n",
    "only_even_nums(my_num_list)"
   ]
  },
  {
   "cell_type": "markdown",
   "metadata": {},
   "source": [
    "## 21. Remove from Set"
   ]
  },
  {
   "cell_type": "code",
   "execution_count": 4,
   "metadata": {},
   "outputs": [
    {
     "name": "stdout",
     "output_type": "stream",
     "text": [
      "{'sea bass', 'shrimp', 'oyster'}\n"
     ]
    }
   ],
   "source": [
    "# Create a program to remove a specific element from a set.\n",
    "\n",
    "def remove_fr_set(my_set, remove_element):\n",
    "    my_set.remove(remove_element)\n",
    "    print(my_set)\n",
    "\n",
    "sea_food = {'shrimp','squid','sea bass','oyster'}\n",
    "\n",
    "remove_fr_set(sea_food, 'squid')"
   ]
  },
  {
   "cell_type": "markdown",
   "metadata": {},
   "source": [
    "## 22. Second Largest Element"
   ]
  },
  {
   "cell_type": "code",
   "execution_count": 6,
   "metadata": {},
   "outputs": [
    {
     "name": "stdout",
     "output_type": "stream",
     "text": [
      "8\n"
     ]
    }
   ],
   "source": [
    "# Create a program to find the second-largest element in a list.\n",
    "\n",
    "my_list = [6,8,3,4,5,10,7]\n",
    "\n",
    "def second_larg(my_list):\n",
    "    my_list.sort()\n",
    "    print(my_list[-2])\n",
    "\n",
    "second_larg(my_list)"
   ]
  },
  {
   "cell_type": "markdown",
   "metadata": {},
   "source": [
    "## 23. Check Keys in Dict"
   ]
  },
  {
   "cell_type": "code",
   "execution_count": 19,
   "metadata": {},
   "outputs": [],
   "source": [
    "# Write a program that checks if a key exists in a dictionary.\n",
    "\n",
    "def check_keys(my_dict, search_key):\n",
    "    for key in my_dict.keys():\n",
    "        key_list = []\n",
    "        key_list.append(key)\n",
    "    if search_key in key_list:\n",
    "        print(f\"The key '{search_key}' is in the dictionary.\")\n",
    "    else:\n",
    "        print(f\"The key '{search_key}' is not in the dictionary.\")"
   ]
  },
  {
   "cell_type": "code",
   "execution_count": 20,
   "metadata": {},
   "outputs": [
    {
     "name": "stdout",
     "output_type": "stream",
     "text": [
      "The key 'Pearl' is in the dictionary.\n"
     ]
    }
   ],
   "source": [
    "cat_dict = {\"Noru\":\"tabby\", \"Gamja\":\"tortoishell\", \"Kong\":\"black\", \"Pearl\":\"dark brown\"}\n",
    "\n",
    "check_keys(cat_dict, \"Pearl\")"
   ]
  },
  {
   "cell_type": "markdown",
   "metadata": {},
   "source": [
    "## 24. Remove Vowels"
   ]
  },
  {
   "cell_type": "code",
   "execution_count": 38,
   "metadata": {},
   "outputs": [
    {
     "name": "stdout",
     "output_type": "stream",
     "text": [
      "ct s drbl nd fnny.\n"
     ]
    }
   ],
   "source": [
    "# Write a program to remove vowels from a given string.\n",
    "\n",
    "def remove_vowels(my_string):\n",
    "    vowels = \"aeiouAEIOU\"\n",
    "    new_string = \"\"\n",
    "    for l in my_string:\n",
    "        if l not in vowels:\n",
    "            new_string += l\n",
    "    print(new_string)\n",
    "\n",
    "remove_vowels(\"cat is adorable and funny.\")"
   ]
  },
  {
   "cell_type": "markdown",
   "metadata": {},
   "source": [
    "## 25. Concat 2 Lists"
   ]
  },
  {
   "cell_type": "code",
   "execution_count": 40,
   "metadata": {},
   "outputs": [
    {
     "name": "stdout",
     "output_type": "stream",
     "text": [
      "['gamja', 'pearl', 'kong', 'noru', 'jjinkko', 'smokey']\n"
     ]
    }
   ],
   "source": [
    "# Create a program to concatenate two lists.\n",
    "\n",
    "def concat_list(first_list, second_list):\n",
    "    new_list = first_list + second_list\n",
    "    print(new_list)\n",
    "\n",
    "first = [\"gamja\",\"pearl\",\"kong\"]\n",
    "second = [\"noru\",\"jjinkko\",\"smokey\"]\n",
    "\n",
    "concat_list(first, second)"
   ]
  },
  {
   "cell_type": "markdown",
   "metadata": {},
   "source": [
    "## 26. Square Each Element with Lambda"
   ]
  },
  {
   "cell_type": "code",
   "execution_count": 45,
   "metadata": {},
   "outputs": [
    {
     "name": "stdout",
     "output_type": "stream",
     "text": [
      "[1, 4, 9, 16]\n"
     ]
    }
   ],
   "source": [
    "# Create a program that uses a lambda function to square each element of a list.\n",
    "\n",
    "def square_element(my_list):\n",
    "    squared_num = map(lambda l: l ** 2, my_list)\n",
    "    squared_list = list(squared_num)\n",
    "    print(squared_list)\n",
    "\n",
    "square_element([1,2,3,4])"
   ]
  },
  {
   "cell_type": "markdown",
   "metadata": {},
   "source": [
    "## 27. Alphabetical"
   ]
  },
  {
   "cell_type": "code",
   "execution_count": 2,
   "metadata": {},
   "outputs": [
    {
     "name": "stdout",
     "output_type": "stream",
     "text": [
      "['apple', 'banana', 'grape', 'peach', 'strawberry']\n"
     ]
    }
   ],
   "source": [
    "# Create a program that sorts a list of strings alphabetically.\n",
    "\n",
    "def sort_alphabetically(string_list):\n",
    "    string_list.sort()\n",
    "    print(string_list)\n",
    "\n",
    "fruits = ['peach','banana','strawberry','apple','grape']\n",
    "\n",
    "sort_alphabetically(fruits)"
   ]
  },
  {
   "cell_type": "markdown",
   "metadata": {},
   "source": [
    "## 28. Remove nth Element"
   ]
  },
  {
   "cell_type": "code",
   "execution_count": 1,
   "metadata": {},
   "outputs": [
    {
     "name": "stdout",
     "output_type": "stream",
     "text": [
      "['Harry Potter and the Prisoner of Azkaban', 'Pride and Prejudice', 'Doctor Strange', 'Encanto']\n"
     ]
    }
   ],
   "source": [
    "# Create a program that removes the nth element from a list.\n",
    "\n",
    "def remove_nth_element(my_list, nth_element):\n",
    "    my_list.pop(nth_element)\n",
    "    print(my_list)\n",
    "\n",
    "movies = ['Harry Potter and the Prisoner of Azkaban','Pride and Prejudice','Zootopia','Doctor Strange','Encanto']\n",
    "\n",
    "remove_nth_element(movies, 2)"
   ]
  },
  {
   "cell_type": "markdown",
   "metadata": {},
   "source": [
    "## 29. Random Number"
   ]
  },
  {
   "cell_type": "code",
   "execution_count": 3,
   "metadata": {},
   "outputs": [],
   "source": [
    "# Create a function that generates a random number between a given range.\n",
    "\n",
    "import random\n",
    "\n",
    "def random_num(num_list):\n",
    "    num_list.sort()\n",
    "    print(random.randint(num_list[0], num_list[-1]))\n",
    "\n",
    "random_num([2,6,8,4,9,11])"
   ]
  },
  {
   "cell_type": "markdown",
   "metadata": {},
   "source": [
    "## 30. Second Smallest"
   ]
  },
  {
   "cell_type": "code",
   "execution_count": 9,
   "metadata": {},
   "outputs": [
    {
     "name": "stdout",
     "output_type": "stream",
     "text": [
      "4\n"
     ]
    }
   ],
   "source": [
    "# Create a function that finds the second smallest element in a list.\n",
    "\n",
    "def second_smallest(my_list):\n",
    "    my_list.sort()\n",
    "    print(my_list[1])\n",
    "\n",
    "second_smallest([4,5,9,10,6,3])"
   ]
  },
  {
   "cell_type": "markdown",
   "metadata": {},
   "source": [
    "## 31. Valid Email Address"
   ]
  },
  {
   "cell_type": "code",
   "execution_count": 19,
   "metadata": {},
   "outputs": [],
   "source": [
    "# Create a program that checks if a given string is a valid email address.\n",
    "\n",
    "def check_email_address(email_address):\n",
    "    main_domains = ['gmail.com','outlook.com','aol.com','proton.com','yahoo.com','icloud.com','zoho.com']\n",
    "    try:\n",
    "        email_strings = email_address.split('@')\n",
    "        id = email_strings[0]\n",
    "        domain = email_strings[1]\n",
    "        if domain in main_domains:\n",
    "            print(\"Valid email address!\")\n",
    "        else:\n",
    "            print(\"Your email address is invalid. Please provide a correct your email address.\")\n",
    "    except:\n",
    "        print(\"Your email address is invalid. Please provide a correct your email address.\")"
   ]
  },
  {
   "cell_type": "code",
   "execution_count": 25,
   "metadata": {},
   "outputs": [
    {
     "name": "stdout",
     "output_type": "stream",
     "text": [
      "Your email address is invalid. Please provide a correct your email address.\n"
     ]
    }
   ],
   "source": [
    "check_email_address('gamja@yaho.com')"
   ]
  },
  {
   "cell_type": "markdown",
   "metadata": {},
   "source": [
    "## 32. Calculate Average"
   ]
  },
  {
   "cell_type": "code",
   "execution_count": 30,
   "metadata": {},
   "outputs": [
    {
     "name": "stdout",
     "output_type": "stream",
     "text": [
      "The average of the given numbers is 28.0.\n"
     ]
    }
   ],
   "source": [
    "# Create a function that calculates the average of a list of numbers.\n",
    "\n",
    "def calculate_avg(list_nums):\n",
    "    sum = 0\n",
    "    for num in list_nums:\n",
    "        sum += num\n",
    "        result = sum / len(list_of_random_nums)\n",
    "    print(f\"The average of the given numbers is {result}.\")\n",
    "\n",
    "list_of_random_nums = [34, 11, 2, 57, 18, 25, 49]\n",
    "\n",
    "calculate_avg(list_of_random_nums)"
   ]
  },
  {
   "cell_type": "markdown",
   "metadata": {},
   "source": [
    "## 33. Prime Number (Test Case) ***"
   ]
  },
  {
   "cell_type": "code",
   "execution_count": 12,
   "metadata": {},
   "outputs": [],
   "source": [
    "# Write a test case for a function that checks if a number is prime.\n",
    "\n",
    "def check_prime_num(num):\n",
    "    if num <= 1:\n",
    "        return False\n",
    "    elif num <= 3:\n",
    "        return True\n",
    "    elif num % 2 == 0 or num % 3 == 0:\n",
    "        return False\n",
    "    \n",
    "    i = 5\n",
    "    while i * i <= num:\n",
    "        if num % i == 0 or num % (i+2) ==0:\n",
    "            return False\n",
    "        i += 6\n",
    "        return True"
   ]
  },
  {
   "cell_type": "code",
   "execution_count": 13,
   "metadata": {},
   "outputs": [
    {
     "data": {
      "text/plain": [
       "False"
      ]
     },
     "execution_count": 13,
     "metadata": {},
     "output_type": "execute_result"
    }
   ],
   "source": [
    "check_prime_num(78)"
   ]
  },
  {
   "cell_type": "code",
   "execution_count": 17,
   "metadata": {},
   "outputs": [
    {
     "data": {
      "text/plain": [
       "True"
      ]
     },
     "execution_count": 17,
     "metadata": {},
     "output_type": "execute_result"
    }
   ],
   "source": [
    "check_prime_num(2)"
   ]
  },
  {
   "cell_type": "code",
   "execution_count": 14,
   "metadata": {},
   "outputs": [],
   "source": [
    "assert check_prime_num(78) == False"
   ]
  },
  {
   "cell_type": "code",
   "execution_count": 19,
   "metadata": {},
   "outputs": [],
   "source": [
    "assert check_prime_num(2) == True"
   ]
  },
  {
   "cell_type": "markdown",
   "metadata": {},
   "source": [
    "## 34. Merge Dictionaries"
   ]
  },
  {
   "cell_type": "code",
   "execution_count": 20,
   "metadata": {},
   "outputs": [],
   "source": [
    "# Write a Python program to merge two dictionaries.\n",
    "\n",
    "def merge_dictionaries(dict_1, dict_2):\n",
    "    dict_1.update(dict_2)\n",
    "    return dict_1"
   ]
  },
  {
   "cell_type": "code",
   "execution_count": 23,
   "metadata": {},
   "outputs": [
    {
     "data": {
      "text/plain": [
       "{1: 'Smokey aka Baby',\n",
       " 2: 'Jjinkko',\n",
       " 3: 'Noru',\n",
       " 4: 'Gamja',\n",
       " 5: 'Kkamkong',\n",
       " 6: 'Pearl'}"
      ]
     },
     "execution_count": 23,
     "metadata": {},
     "output_type": "execute_result"
    }
   ],
   "source": [
    "first_cats = {1:'Smokey aka Baby', 2:'Jjinkko'}\n",
    "second_cats = {3:'Noru', 4:'Gamja', 5:'Kkamkong', 6:'Pearl'}\n",
    "\n",
    "cat_family = merge_dictionaries(first_cats, second_cats)\n",
    "cat_family"
   ]
  },
  {
   "cell_type": "markdown",
   "metadata": {},
   "source": [
    "## 35. Adds Two Numbers."
   ]
  },
  {
   "cell_type": "code",
   "execution_count": 2,
   "metadata": {},
   "outputs": [],
   "source": [
    "# Write a simple unit test for a function that adds two numbers.\n",
    "\n",
    "def add_two_nums(num_1, num_2):\n",
    "    return num_1 + num_2\n",
    "\n",
    "assert add_two_nums(1,2) == 3"
   ]
  },
  {
   "cell_type": "markdown",
   "metadata": {},
   "source": [
    "## 36. Anagrams"
   ]
  },
  {
   "cell_type": "code",
   "execution_count": 34,
   "metadata": {},
   "outputs": [
    {
     "name": "stdout",
     "output_type": "stream",
     "text": [
      "This is an anagram!\n",
      "This is an anagram!\n",
      "This is not an anagram.\n"
     ]
    }
   ],
   "source": [
    "# Write a Python program to check if two strings are anagrams.\n",
    "\n",
    "def check_anagram(string_1, string_2):\n",
    "    first_word = []\n",
    "    second_word = []\n",
    "\n",
    "    for s in string_1.lower():\n",
    "        if s != ' ':\n",
    "            first_word.append(s)\n",
    "\n",
    "    for l in string_2.lower():\n",
    "        if l != ' ':\n",
    "            second_word.append(l)\n",
    "    \n",
    "    first_word.sort()\n",
    "    second_word.sort()\n",
    "\n",
    "    if first_word == second_word:\n",
    "        print('This is an anagram!')\n",
    "    else:\n",
    "        print('This is not an anagram.')\n",
    "\n",
    "\n",
    "\n",
    "check_anagram(\"cat\", \"act\")\n",
    "check_anagram(\"Tom Marvolo Riddle\", \"I am Lord Voldemort\")\n",
    "check_anagram(\"Rainbow\", \"Raindow\")"
   ]
  },
  {
   "cell_type": "markdown",
   "metadata": {},
   "source": [
    "## 37. Dictionary Keys and Values"
   ]
  },
  {
   "cell_type": "code",
   "execution_count": 37,
   "metadata": {},
   "outputs": [
    {
     "name": "stdout",
     "output_type": "stream",
     "text": [
      "The key for this dictionary is: Gamja\n",
      "The value for this dictionary is: Potato\n",
      " \n",
      "The key for this dictionary is: Noru\n",
      "The value for this dictionary is: Deer\n",
      " \n",
      "The key for this dictionary is: Kkamkong\n",
      "The value for this dictionary is: Bean\n",
      " \n",
      "The key for this dictionary is: Jinjoo\n",
      "The value for this dictionary is: Pearl\n",
      " \n"
     ]
    }
   ],
   "source": [
    "# Write a program to iterate through a dictionary and print its keys and values.\n",
    "\n",
    "my_dict = {'Gamja':'Potato', 'Noru':'Deer', 'Kkamkong':'Bean', 'Jinjoo':'Pearl'}\n",
    "\n",
    "for k, v in my_dict.items():\n",
    "    print(f\"The key for this dictionary is: {k}\\nThe value for this dictionary is: {v}\\n \")"
   ]
  },
  {
   "cell_type": "markdown",
   "metadata": {},
   "source": [
    "## 38. Flatten List ***"
   ]
  },
  {
   "cell_type": "code",
   "execution_count": 4,
   "metadata": {},
   "outputs": [
    {
     "data": {
      "text/plain": [
       "[1, 2, 3, 4, 5, 6, 7, 8, 9]"
      ]
     },
     "execution_count": 4,
     "metadata": {},
     "output_type": "execute_result"
    }
   ],
   "source": [
    "# Write a program to flatten a nested list.\n",
    "\n",
    "nested_l = [[1,2,3,4,5],[6,7,8,9]]\n",
    "\n",
    "def flatten_list(nested_l):\n",
    "    flatten = []\n",
    "    for l in nested_l:\n",
    "        if type(l) == list:\n",
    "            for n in l:\n",
    "                flatten.append(n)\n",
    "        else:\n",
    "            flatten.append(l)\n",
    "    return flatten\n",
    "\n",
    "flatten_list(nested_l)"
   ]
  },
  {
   "cell_type": "markdown",
   "metadata": {},
   "source": [
    "## 39. Most Common Word in Test File *****"
   ]
  },
  {
   "cell_type": "code",
   "execution_count": 35,
   "metadata": {},
   "outputs": [
    {
     "name": "stdout",
     "output_type": "stream",
     "text": [
      "['cat', 'is', 'cute']\n"
     ]
    }
   ],
   "source": [
    "# Write a program to find the most common words in a text file.\n",
    "\n",
    "def common_word(file_path):\n",
    "    file = open(file_path)\n",
    "    count_words = {}\n",
    "    for text in file:\n",
    "        words = text.split(' ')\n",
    "        for word in words:\n",
    "            if word not in count_words.keys():\n",
    "                count_words[word] = 1\n",
    "            elif word in count_words.keys():\n",
    "                count_words[word] += 1\n",
    "    \n",
    "    max_value = max(count_words.values())\n",
    "\n",
    "    keyword = []\n",
    "    for k, v in count_words.items():\n",
    "        if v == max_value:\n",
    "            keyword.append(k)\n",
    "    print(keyword)\n",
    "\n",
    "\n",
    "\n",
    "cat_file_path = r\"C:\\Users\\nene0\\OneDrive\\바탕 화면\\Python Learning\\WWC_python_challenge\\my_text.txt\"\n",
    "\n",
    "common_word(cat_file_path)"
   ]
  },
  {
   "cell_type": "markdown",
   "metadata": {},
   "source": [
    "## 40. Largest Common Divisor **"
   ]
  },
  {
   "cell_type": "code",
   "execution_count": 65,
   "metadata": {},
   "outputs": [
    {
     "name": "stdout",
     "output_type": "stream",
     "text": [
      "9\n"
     ]
    }
   ],
   "source": [
    "# Write a function to find the largest common divisor of two numbers using a function.\n",
    "\n",
    "def gcd(a, b):\n",
    "    while b != 0:\n",
    "        a, b = b, a%b\n",
    "    print(a)\n",
    "\n",
    "gcd(9, 54)"
   ]
  },
  {
   "cell_type": "markdown",
   "metadata": {},
   "source": [
    "## 41. List Permutations *****"
   ]
  },
  {
   "cell_type": "code",
   "execution_count": 79,
   "metadata": {},
   "outputs": [
    {
     "name": "stdout",
     "output_type": "stream",
     "text": [
      "[[1, 2, 3], [1, 3, 2], [2, 1, 3], [2, 3, 1], [3, 1, 2], [3, 2, 1]]\n"
     ]
    }
   ],
   "source": [
    "# Write a program that uses recursion to generate all permutations of a list.\n",
    "\n",
    "def permutations(lst):\n",
    "    if len(lst) == 0:\n",
    "        return [[]]  # Empty list has one permutation, which is the empty list.\n",
    "    elif len(lst) == 1:\n",
    "        return [lst]  # List with one element has one permutation, which is the list itself.\n",
    "    else:\n",
    "        result = []\n",
    "        for i in range(len(lst)):\n",
    "            first = lst[i]\n",
    "            rest = lst[:i] + lst[i+1:]\n",
    "            for p in permutations(rest):\n",
    "                result.append([first] + p)\n",
    "        return result\n",
    "\n",
    "# Example usage:\n",
    "my_list = [1, 2, 3]\n",
    "print(permutations(my_list))"
   ]
  },
  {
   "cell_type": "markdown",
   "metadata": {},
   "source": [
    "## 42. Try-Except Division by Zero"
   ]
  },
  {
   "cell_type": "code",
   "execution_count": 9,
   "metadata": {},
   "outputs": [
    {
     "name": "stdout",
     "output_type": "stream",
     "text": [
      "2.0\n"
     ]
    }
   ],
   "source": [
    "# Write a program that uses a try-except block to handle division by zero.\n",
    "\n",
    "def divide_nums(dividend, divisor):\n",
    "    try:\n",
    "        quotient = dividend/divisor\n",
    "        print(quotient)\n",
    "    except:\n",
    "        print('ZeroDivisionError: Divisor cannot be zero.')\n",
    "\n",
    "divide_nums(4,2)"
   ]
  },
  {
   "cell_type": "code",
   "execution_count": 10,
   "metadata": {},
   "outputs": [
    {
     "name": "stdout",
     "output_type": "stream",
     "text": [
      "ZeroDivisionError: Divisor cannot be zero.\n"
     ]
    }
   ],
   "source": [
    "divide_nums(4,0)"
   ]
  },
  {
   "cell_type": "markdown",
   "metadata": {},
   "source": [
    "## 43. Remove Whitespaces"
   ]
  },
  {
   "cell_type": "code",
   "execution_count": 3,
   "metadata": {},
   "outputs": [
    {
     "name": "stdout",
     "output_type": "stream",
     "text": [
      "Ilovecats!\n"
     ]
    }
   ],
   "source": [
    "# Write a program that removes all whitespaces from a given string.\n",
    "\n",
    "def remove_wspace(my_string):\n",
    "    no_whitespace = my_string.replace(' ', '')\n",
    "    print(no_whitespace)\n",
    "\n",
    "sentence = ' I love cats !'\n",
    "\n",
    "remove_wspace(sentence)"
   ]
  },
  {
   "cell_type": "markdown",
   "metadata": {},
   "source": [
    "## 44. Invalid Input (integer)"
   ]
  },
  {
   "cell_type": "code",
   "execution_count": 67,
   "metadata": {},
   "outputs": [],
   "source": [
    "# Write a program that reads an integer from the user and handles invalid inputs.\n",
    "\n",
    "def int_input():\n",
    "    try:\n",
    "        num = int(input(\"Please provide a number: \"))\n",
    "        print(f'The integer you provide is {num}.')\n",
    "    except:\n",
    "        print('Invalid input. Please provide an Integer.')"
   ]
  },
  {
   "cell_type": "code",
   "execution_count": 69,
   "metadata": {},
   "outputs": [
    {
     "name": "stdout",
     "output_type": "stream",
     "text": [
      "Invalid input. Please provide an Integer.\n"
     ]
    }
   ],
   "source": [
    "int_input()"
   ]
  },
  {
   "cell_type": "markdown",
   "metadata": {},
   "source": [
    "## 45. Prime Number (Function) **"
   ]
  },
  {
   "cell_type": "code",
   "execution_count": 66,
   "metadata": {},
   "outputs": [],
   "source": [
    "# Write a function to check if a number is a prime number. (Repeat from previous challenge except no test case.)\n",
    "\n",
    "def check_prime_num(num):\n",
    "    if num <= 1:\n",
    "        return False\n",
    "    elif num <= 3:\n",
    "        return True\n",
    "    elif num % 2 == 0 or num % 3 == 0:\n",
    "        return False\n",
    "    \n",
    "    i = 5\n",
    "    while i * i <= num:\n",
    "        if num % i == 0 or num % (i+2) ==0:\n",
    "            return False\n",
    "        i += 6\n",
    "        return True"
   ]
  },
  {
   "cell_type": "markdown",
   "metadata": {},
   "source": [
    "## 46. Check Sorted List"
   ]
  },
  {
   "cell_type": "code",
   "execution_count": 67,
   "metadata": {},
   "outputs": [],
   "source": [
    "# Write a function to check if a given list is sorted\n",
    "\n",
    "def is_list_sorted(my_list):\n",
    "    copy_list = my_list.copy()\n",
    "    copy_list.sort()\n",
    "    if (my_list == copy_list) == True:\n",
    "        print('List is sorted.')\n",
    "    else:\n",
    "        print('List is not sorted.')"
   ]
  },
  {
   "cell_type": "code",
   "execution_count": 68,
   "metadata": {},
   "outputs": [],
   "source": [
    "animals = ['cat','dog','bird','bear','rabbit','deer']\n",
    "animals_ordered = ['bear', 'bird', 'cat', 'deer', 'dog', 'rabbit']"
   ]
  },
  {
   "cell_type": "code",
   "execution_count": 69,
   "metadata": {},
   "outputs": [
    {
     "name": "stdout",
     "output_type": "stream",
     "text": [
      "List is not sorted.\n"
     ]
    }
   ],
   "source": [
    "is_list_sorted(animals)"
   ]
  },
  {
   "cell_type": "code",
   "execution_count": 70,
   "metadata": {},
   "outputs": [
    {
     "name": "stdout",
     "output_type": "stream",
     "text": [
      "List is sorted.\n"
     ]
    }
   ],
   "source": [
    "is_list_sorted(animals_ordered)"
   ]
  },
  {
   "cell_type": "markdown",
   "metadata": {},
   "source": [
    "## 47. Import Math Module"
   ]
  },
  {
   "cell_type": "code",
   "execution_count": 2,
   "metadata": {},
   "outputs": [],
   "source": [
    "# Create a program that imports the math module and uses its functions.\n",
    "\n",
    "import math\n",
    "\n",
    "def round_near_int(num):\n",
    "    result = math.ceil(num)\n",
    "    return result\n",
    "\n",
    "def log_num(num):\n",
    "    result = math.log(num)\n",
    "    return result\n",
    "\n",
    "def sqrt_num(num):\n",
    "    result = math.sqrt(num)\n",
    "    return result\n",
    "\n",
    "def division_remainder(num_x, num_y):\n",
    "    result = math.remainder(num_x, num_y)\n",
    "    return result"
   ]
  },
  {
   "cell_type": "code",
   "execution_count": 5,
   "metadata": {},
   "outputs": [],
   "source": [
    "answer_1 = round_near_int(3.14159)\n",
    "answer_1 = log_num(15689)\n",
    "answer_3 = sqrt_num(9)\n",
    "answer_4 = division_remainder(17, 2)"
   ]
  },
  {
   "cell_type": "code",
   "execution_count": 6,
   "metadata": {},
   "outputs": [
    {
     "data": {
      "text/plain": [
       "(9.660715108832955, 9.660715108832955, 3.0, 1.0)"
      ]
     },
     "execution_count": 6,
     "metadata": {},
     "output_type": "execute_result"
    }
   ],
   "source": [
    "answer_1, answer_1, answer_3, answer_4"
   ]
  },
  {
   "cell_type": "markdown",
   "metadata": {},
   "source": [
    "## 48. Replace Word with Synonyms"
   ]
  },
  {
   "cell_type": "code",
   "execution_count": 113,
   "metadata": {},
   "outputs": [],
   "source": [
    "# Create a program that replaces specific words in a text with their synonyms.\n",
    "\n",
    "from nltk.corpus import wordnet\n",
    "import random\n",
    "\n",
    "def replace_syn(my_txt, word):\n",
    "    wn_synonyms = []\n",
    "    true_synonyms = []\n",
    "    for s in wordnet.synsets(word):\n",
    "        for l in s.lemmas():\n",
    "            wn_synonyms.append(l.name())\n",
    "    for w in wn_synonyms:\n",
    "        if w != word:\n",
    "            true_synonyms.append(w)\n",
    "    random_syn = random.choice(true_synonyms)\n",
    "    new_sentence = my_txt.replace(word, random_syn)\n",
    "    print(new_sentence)"
   ]
  },
  {
   "cell_type": "code",
   "execution_count": 121,
   "metadata": {},
   "outputs": [
    {
     "name": "stdout",
     "output_type": "stream",
     "text": [
      "The quick brown fox jumps over the indolent dog.\n"
     ]
    }
   ],
   "source": [
    "replace_syn('The quick brown fox jumps over the lazy dog.', 'lazy')"
   ]
  },
  {
   "cell_type": "markdown",
   "metadata": {},
   "source": [
    "## 49. Bubble Sort Algorithm *****"
   ]
  },
  {
   "cell_type": "code",
   "execution_count": 75,
   "metadata": {},
   "outputs": [],
   "source": [
    "# Create a program that implements the bubble sort algorithm.\n",
    "# Bubble sort algorithm: simple sorting algorithm that works by repeatedly swapping the adjacent elements if they are in the wrong order.\n",
    "\n",
    "def bubble_sort(arr):\n",
    "    n = len(arr)\n",
    "    # Traverse through all elements in the array\n",
    "    for i in range(n):\n",
    "        # Last i elements are already in place\n",
    "        for j in range(0, n-i-1):\n",
    "            # Traverse the array from 0 to n-i-1\n",
    "            # Swap if the element found is greater than the next element\n",
    "            if arr[j] > arr[j+1]:\n",
    "                arr[j], arr[j+1] = arr[j+1], arr[j]\n",
    "    print(arr)"
   ]
  },
  {
   "cell_type": "code",
   "execution_count": 76,
   "metadata": {},
   "outputs": [
    {
     "name": "stdout",
     "output_type": "stream",
     "text": [
      "[1, 3, 6, 7, 10, 12, 45]\n"
     ]
    }
   ],
   "source": [
    "my_list = [1, 6, 3, 45, 12, 10, 7]\n",
    "\n",
    "bubble_sort(my_list)"
   ]
  },
  {
   "cell_type": "markdown",
   "metadata": {},
   "source": [
    "## 50. Intersection and Union of Sets"
   ]
  },
  {
   "cell_type": "code",
   "execution_count": 80,
   "metadata": {},
   "outputs": [],
   "source": [
    "# Create a program that finds the intersection and union of two sets.\n",
    "\n",
    "def int_union_sets(first_set, second_set):\n",
    "    inter = first_set.intersection(second_set)\n",
    "    uni = first_set.union(second_set)\n",
    "    print(f'The intersection of these two sets are:{inter}')\n",
    "    print(f'The union of these two sets are:{uni}')"
   ]
  },
  {
   "cell_type": "code",
   "execution_count": 81,
   "metadata": {},
   "outputs": [
    {
     "name": "stdout",
     "output_type": "stream",
     "text": [
      "The intersection of these two sets are:{5, 6}\n",
      "The union of these two sets are:{1, 2, 3, 4, 5, 6, 7, 8, 9}\n"
     ]
    }
   ],
   "source": [
    "int_union_sets({1,2,3,4,5,6},{9,8,7,6,5})"
   ]
  },
  {
   "cell_type": "markdown",
   "metadata": {},
   "source": [
    "## 51. Word Occurences in Text File"
   ]
  },
  {
   "cell_type": "code",
   "execution_count": 10,
   "metadata": {},
   "outputs": [],
   "source": [
    "# Create a program that counts the occurrences of each word in a text file.\n",
    "\n",
    "def count_word_occurrences(file_path):\n",
    "    word_counts = {}\n",
    "    with open(file_path, 'r') as file:\n",
    "        for line in file:\n",
    "            words = line.split()\n",
    "            for word in words:\n",
    "                word = word.strip('.,!?').lower()\n",
    "                word_counts[word] = word_counts.get(word, 0) + 1\n",
    "\n",
    "    return word_counts"
   ]
  },
  {
   "cell_type": "code",
   "execution_count": 11,
   "metadata": {},
   "outputs": [
    {
     "data": {
      "text/plain": [
       "{'happy': 1, 'cat': 8, 'is': 4, 'cute': 4, 'round': 1, 'chubby': 1, 'every': 1}"
      ]
     },
     "execution_count": 11,
     "metadata": {},
     "output_type": "execute_result"
    }
   ],
   "source": [
    "filepath = r\"C:\\Users\\nene0\\OneDrive\\바탕 화면\\Python Learning\\WWC_python_challenge\\my_text.txt\"\n",
    "\n",
    "word_counts = count_word_occurrences(filepath)\n",
    "word_counts"
   ]
  },
  {
   "cell_type": "markdown",
   "metadata": {},
   "source": [
    "## 52. Palindrome"
   ]
  },
  {
   "cell_type": "code",
   "execution_count": 75,
   "metadata": {},
   "outputs": [],
   "source": [
    "# Create a program that checks if a string is a palindrome.\n",
    "\n",
    "def is_palindrome(my_string):\n",
    "    letters = []\n",
    "    for l in my_string:\n",
    "        letters.append(l)\n",
    "    letters.reverse()\n",
    "    r_word = ''.join(letters)\n",
    "    if r_word == my_string:\n",
    "        print('This string is a palindrome!')\n",
    "    else:\n",
    "        print('This string is not a palindrome.')"
   ]
  },
  {
   "cell_type": "code",
   "execution_count": 77,
   "metadata": {},
   "outputs": [
    {
     "name": "stdout",
     "output_type": "stream",
     "text": [
      "This string is a palindrome!\n"
     ]
    }
   ],
   "source": [
    "is_palindrome('madam')"
   ]
  },
  {
   "cell_type": "code",
   "execution_count": 78,
   "metadata": {},
   "outputs": [
    {
     "name": "stdout",
     "output_type": "stream",
     "text": [
      "This string is not a palindrome.\n"
     ]
    }
   ],
   "source": [
    "is_palindrome('happy')"
   ]
  },
  {
   "cell_type": "markdown",
   "metadata": {},
   "source": [
    "## 53. User Draw Canvas using GUI *****"
   ]
  },
  {
   "cell_type": "code",
   "execution_count": 9,
   "metadata": {},
   "outputs": [],
   "source": [
    "# Create a program that allows users to draw on a canvas using a GUI.\n",
    "\n",
    "import tkinter as tk # A Python Library used to construct basic graphical user interface (GUI) applications.\n",
    "\n",
    "class DrawingApp: # class => a \"blueprint\" for creating objects.\n",
    "    def __init__(self, master):\n",
    "        self.master = master # Access master widget, a python objects that have a representation in the browser.\n",
    "        self.master.title(\"Drawing App\") # Set the title of the window, title() is provided by the master widget.\n",
    "\n",
    "        self.canvas = tk.Canvas(self.master, width=500, height=500, bg=\"white\") # Creates canvas widget inside master widget\n",
    "        self.canvas.pack(fill=tk.BOTH, expand=True) # packs the canvas widget inside the master widget.\n",
    "        # fill=tk.BOTH: the canvas should fill both the horizontal and vertical space of its parent widget.\n",
    "        # expand=True: the canvas to expand to fill any extra space in the parent widget.\n",
    "\n",
    "        self.canvas.bind(\"<B1-Motion>\", self.draw) # Binds the event to 'draw' method.\n",
    "        # <B1-Motion>: event occurs when the user moves the mouse with the left button pressed.\n",
    "\n",
    "    def draw(self, event): # Defines 'draw' method.\n",
    "        x1, y1 = (event.x - 2), (event.y - 2)\n",
    "        x2, y2 = (event.x + 2), (event.y + 2)\n",
    "        self.canvas.create_oval(x1, y1, x2, y2, fill=\"black\", outline=\"\")\n",
    "\n",
    "def main(): # Serves as the entry point of the program\n",
    "    root = tk.Tk() # Create Tkinter 'Tk' instance, which represents the main window or the root window of the GUI application.\n",
    "    app = DrawingApp(root) # Initializes the drawing application within the main window\n",
    "    root.mainloop() # starts the Tkinter event loop, which listens for events (user interactions) and updates the GUI accordingly.\n",
    "\n",
    "if __name__ == \"__main__\": # checks whether the script is being run as the main program.\n",
    "    main() # calls the main() function if the script is being run as the main program\n"
   ]
  },
  {
   "cell_type": "markdown",
   "metadata": {},
   "source": [
    "## 54. Start with Vowel"
   ]
  },
  {
   "cell_type": "code",
   "execution_count": 56,
   "metadata": {},
   "outputs": [],
   "source": [
    "# Create a function to find all words in a sentence that start with a vowel.\n",
    "\n",
    "def start_with_vowel(sentence):\n",
    "    vowels = ['a','e','i','o','u','A','E','I','O','U']\n",
    "    word_in_sent = sentence.split(' ')\n",
    "    for w in word_in_sent:\n",
    "        for v in vowels:\n",
    "            if w.startswith(v):\n",
    "                print(w)"
   ]
  },
  {
   "cell_type": "code",
   "execution_count": 58,
   "metadata": {},
   "outputs": [
    {
     "name": "stdout",
     "output_type": "stream",
     "text": [
      "After\n",
      "a\n",
      "in\n",
      "a\n",
      "of\n",
      "and\n",
      "a\n"
     ]
    }
   ],
   "source": [
    "start_with_vowel('After a long day, she finally found solace in a warm cup of tea and a good book.')"
   ]
  },
  {
   "cell_type": "markdown",
   "metadata": {},
   "source": [
    "## 55. Reverse Each Word in a String"
   ]
  },
  {
   "cell_type": "code",
   "execution_count": 78,
   "metadata": {},
   "outputs": [],
   "source": [
    "# Create a function that takes a string and returns the reverse of each word.\n",
    "\n",
    "def reverse_words(sentence):\n",
    "    words_sent = sentence.split(' ')\n",
    "    reversed_words = [word[::-1] for word in words_sent]\n",
    "    new_sentence = ' '.join(reversed_words)\n",
    "    print(new_sentence)"
   ]
  },
  {
   "cell_type": "code",
   "execution_count": 80,
   "metadata": {},
   "outputs": [
    {
     "name": "stdout",
     "output_type": "stream",
     "text": [
      "I ma yppah\n"
     ]
    }
   ],
   "source": [
    "reverse_words('I am happy')"
   ]
  },
  {
   "cell_type": "markdown",
   "metadata": {},
   "source": [
    "## 58. Extract URL"
   ]
  },
  {
   "cell_type": "code",
   "execution_count": 91,
   "metadata": {},
   "outputs": [],
   "source": [
    "# Create a function to extract all URLs from a given text using regular expressions.\n",
    "\n",
    "import re\n",
    "\n",
    "def extract_URL(my_text):\n",
    "    url = re.findall(r\"https\\W{3}\\w{3}\\W{1}\\w+\\W{1}\\w{3}\", my_text)\n",
    "    print(url)"
   ]
  },
  {
   "cell_type": "code",
   "execution_count": 92,
   "metadata": {},
   "outputs": [],
   "source": [
    "my_text = \"The quick brown fox jumped over the lazy dog. For more information, visit our website at https://www.example.com. Meanwhile, the cat chased the mouse, leading to a hilarious scene. Check out the video clip at https://www.youtube.com/watch?v=dQw4w9WgXcQ for a good laugh. After all the excitement, it's time for some relaxation. You can find great deals on vacation packages at https://www.travelocity.com. Enjoy your day!\""
   ]
  },
  {
   "cell_type": "code",
   "execution_count": 93,
   "metadata": {},
   "outputs": [
    {
     "name": "stdout",
     "output_type": "stream",
     "text": [
      "['https://www.example.com', 'https://www.youtube.com', 'https://www.travelocity.com']\n"
     ]
    }
   ],
   "source": [
    "extract_URL(my_text)"
   ]
  },
  {
   "cell_type": "markdown",
   "metadata": {},
   "source": [
    "## 57. Maximum Value in Dictionary"
   ]
  },
  {
   "cell_type": "code",
   "execution_count": 40,
   "metadata": {},
   "outputs": [],
   "source": [
    "# Create a function that returns the key with the maximum value in a dictionary.\n",
    "\n",
    "def maximum_val(my_dict):\n",
    "    values_l = []\n",
    "    for v in my_dict.items():\n",
    "        values_l.append(v)\n",
    "    print(values_l)"
   ]
  },
  {
   "cell_type": "code",
   "execution_count": 21,
   "metadata": {},
   "outputs": [
    {
     "data": {
      "text/plain": [
       "dict_values([5, 6, 9, 11, 4])"
      ]
     },
     "execution_count": 21,
     "metadata": {},
     "output_type": "execute_result"
    }
   ],
   "source": [
    "random_dictionary = {'Apple':5, 'Banana':6, 'Pineapple':9, 'Dragonfruit':11, 'Pear':4}\n",
    "\n",
    "random_dictionary.values()"
   ]
  },
  {
   "cell_type": "code",
   "execution_count": 41,
   "metadata": {},
   "outputs": [
    {
     "name": "stdout",
     "output_type": "stream",
     "text": [
      "[('Apple', 5), ('Banana', 6), ('Pineapple', 9), ('Dragonfruit', 11), ('Pear', 4)]\n"
     ]
    }
   ],
   "source": [
    "maximum_val(random_dictionary)"
   ]
  },
  {
   "cell_type": "markdown",
   "metadata": {},
   "source": [
    "## 58. String to Integer"
   ]
  },
  {
   "cell_type": "code",
   "execution_count": 81,
   "metadata": {},
   "outputs": [],
   "source": [
    "# Create a function that converts a string to an integer and handles ValueError.\n",
    "\n",
    "def string_to_int(string_num):\n",
    "    try:\n",
    "        int_num = int(string_num)\n",
    "        print(int_num)\n",
    "    except ValueError:\n",
    "        print('Please provide a string number.')"
   ]
  },
  {
   "cell_type": "code",
   "execution_count": 82,
   "metadata": {},
   "outputs": [
    {
     "name": "stdout",
     "output_type": "stream",
     "text": [
      "5\n"
     ]
    }
   ],
   "source": [
    "string_to_int('5')"
   ]
  },
  {
   "cell_type": "code",
   "execution_count": 83,
   "metadata": {},
   "outputs": [
    {
     "name": "stdout",
     "output_type": "stream",
     "text": [
      "Please provide a string number.\n"
     ]
    }
   ],
   "source": [
    "string_to_int('five')"
   ]
  },
  {
   "cell_type": "markdown",
   "metadata": {},
   "source": [
    "## 59. Perfect Square"
   ]
  },
  {
   "cell_type": "code",
   "execution_count": 11,
   "metadata": {},
   "outputs": [],
   "source": [
    "# Create a function that checks if a number is a perfect square.\n",
    "\n",
    "import math\n",
    "\n",
    "def perfect_square(num):\n",
    "    result = math.sqrt(num)\n",
    "    if result%1 != 0:\n",
    "        print(f'The {num} is not a perfect square root.')\n",
    "    else:\n",
    "        print(f'The {num} is a perfect square root.')"
   ]
  },
  {
   "cell_type": "code",
   "execution_count": 12,
   "metadata": {},
   "outputs": [
    {
     "name": "stdout",
     "output_type": "stream",
     "text": [
      "The 2 is not a perfect square root.\n"
     ]
    }
   ],
   "source": [
    "perfect_square(2)"
   ]
  },
  {
   "cell_type": "code",
   "execution_count": 13,
   "metadata": {},
   "outputs": [
    {
     "name": "stdout",
     "output_type": "stream",
     "text": [
      "The 9 is a perfect square root.\n"
     ]
    }
   ],
   "source": [
    "perfect_square(9)"
   ]
  },
  {
   "cell_type": "markdown",
   "metadata": {},
   "source": [
    "## 60. Bank Account"
   ]
  },
  {
   "cell_type": "code",
   "execution_count": 12,
   "metadata": {},
   "outputs": [],
   "source": [
    "# Create a class representing a simple bank account with deposit and withdraw methods.\n",
    "\n",
    "class BankAccount:\n",
    "    def __init__(self, account_number, balance=0):\n",
    "        self.account_number = account_number\n",
    "        self.balance = balance\n",
    "\n",
    "    def deposit(self, amount):\n",
    "        if amount > 0:\n",
    "            self.balance += amount\n",
    "            print(f\"Deposit: ${amount}. New balance: ${self.balance}\")\n",
    "        else:\n",
    "            print(\"Invalid amount for deposit.\")\n",
    "\n",
    "    def withdraw(self, amount):\n",
    "        if amount > 0 and amount <= self.balance:\n",
    "            self.balance -= amount\n",
    "            print(f\"Withdrew: ${amount}. New balance: ${self.balance}\")\n",
    "        elif amount > 0 and amount > self.balance:\n",
    "            print(\"Insufficient amount for withdraw.\")\n",
    "        else:\n",
    "            print(\"Invalid amount for withdrawal.\")\n"
   ]
  },
  {
   "cell_type": "code",
   "execution_count": 15,
   "metadata": {},
   "outputs": [
    {
     "name": "stdout",
     "output_type": "stream",
     "text": [
      "Initial balance: 0\n",
      "Deposit: $250. New balance: $250\n",
      "Withdrew: $100. New balance: $150\n",
      "Insufficient amount for withdraw.\n",
      "Invalid amount for deposit.\n",
      "Final balance: 150\n"
     ]
    }
   ],
   "source": [
    "account = BankAccount(\"12345-67890\")\n",
    "print(\"Initial balance:\", account.balance)\n",
    "\n",
    "account.deposit(250)\n",
    "account.withdraw(100)\n",
    "account.withdraw(200)\n",
    "account.deposit(-60)\n",
    "\n",
    "print(\"Final balance:\", account.balance)"
   ]
  }
 ],
 "metadata": {
  "kernelspec": {
   "display_name": "Python 3",
   "language": "python",
   "name": "python3"
  },
  "language_info": {
   "codemirror_mode": {
    "name": "ipython",
    "version": 3
   },
   "file_extension": ".py",
   "mimetype": "text/x-python",
   "name": "python",
   "nbconvert_exporter": "python",
   "pygments_lexer": "ipython3",
   "version": "3.11.3"
  }
 },
 "nbformat": 4,
 "nbformat_minor": 2
}
